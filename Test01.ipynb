{
 "cells": [
  {
   "cell_type": "code",
   "execution_count": 1,
   "id": "0bff9835-2ec0-479c-9741-6e281c3926ba",
   "metadata": {},
   "outputs": [],
   "source": [
    "mutable struct Test_struct\n",
    "    A::Vector{Int64}\n",
    "    B::Int64\n",
    "end"
   ]
  },
  {
   "cell_type": "code",
   "execution_count": 2,
   "id": "2e76cea5-5e99-4fb9-98f6-63d0d10df668",
   "metadata": {},
   "outputs": [
    {
     "name": "stdout",
     "output_type": "stream",
     "text": [
      "40\n"
     ]
    }
   ],
   "source": [
    "A = 2\n",
    "println(7*5+5)"
   ]
  },
  {
   "cell_type": "code",
   "execution_count": 3,
   "id": "cde5b64b-62af-4360-94c3-60eef223df1f",
   "metadata": {},
   "outputs": [
    {
     "name": "stdout",
     "output_type": "stream",
     "text": [
      "4\n"
     ]
    }
   ],
   "source": [
    "println(2* A)"
   ]
  },
  {
   "cell_type": "code",
   "execution_count": 4,
   "id": "d6dd5b17-aef9-4e08-b24a-03fd0e531601",
   "metadata": {},
   "outputs": [
    {
     "data": {
      "text/plain": [
       "test01(\"Marvin\", 12)"
      ]
     },
     "execution_count": 4,
     "metadata": {},
     "output_type": "execute_result"
    }
   ],
   "source": [
    "struct test01\n",
    "    name::String\n",
    "    age::Int8\n",
    "end\n",
    "\n",
    "Marv = test01(\"Marvin\", 12)\n",
    "    \n",
    "    "
   ]
  },
  {
   "cell_type": "code",
   "execution_count": 5,
   "id": "5ada8abe-fa10-4f33-81bc-302d31c8ad69",
   "metadata": {},
   "outputs": [
    {
     "data": {
      "text/plain": [
       "Test_struct([2, 1], 4)"
      ]
     },
     "execution_count": 5,
     "metadata": {},
     "output_type": "execute_result"
    }
   ],
   "source": [
    "T = Test_struct([2,1],4)"
   ]
  },
  {
   "cell_type": "code",
   "execution_count": 6,
   "id": "ce58ac50-f7e9-4ad0-acb3-09b0bd7c5717",
   "metadata": {},
   "outputs": [
    {
     "name": "stdout",
     "output_type": "stream",
     "text": [
      "[2, 1]\n"
     ]
    }
   ],
   "source": [
    "println(T.A)"
   ]
  },
  {
   "cell_type": "code",
   "execution_count": 11,
   "id": "9ed9e5e4-8295-41b5-b8ed-b72a95258030",
   "metadata": {},
   "outputs": [
    {
     "ename": "LoadError",
     "evalue": "MethodError: no method matching copy(::Test_struct)\n\u001b[0mClosest candidates are:\n\u001b[0m  copy(\u001b[91m::SubArray{<:Any, <:Any, <:Union{SparseArrays.AbstractSparseMatrixCSC, SparseArrays.SparseVector}}\u001b[39m) at ~/packages/julias/julia-1.8/share/julia/stdlib/v1.8/SparseArrays/src/sparsevector.jl:731\n\u001b[0m  copy(\u001b[91m::SubArray\u001b[39m) at subarray.jl:70\n\u001b[0m  copy(\u001b[91m::LinearAlgebra.CholeskyPivoted\u001b[39m) at ~/packages/julias/julia-1.8/share/julia/stdlib/v1.8/LinearAlgebra/src/cholesky.jl:512\n\u001b[0m  ...",
     "output_type": "error",
     "traceback": [
      "MethodError: no method matching copy(::Test_struct)\n\u001b[0mClosest candidates are:\n\u001b[0m  copy(\u001b[91m::SubArray{<:Any, <:Any, <:Union{SparseArrays.AbstractSparseMatrixCSC, SparseArrays.SparseVector}}\u001b[39m) at ~/packages/julias/julia-1.8/share/julia/stdlib/v1.8/SparseArrays/src/sparsevector.jl:731\n\u001b[0m  copy(\u001b[91m::SubArray\u001b[39m) at subarray.jl:70\n\u001b[0m  copy(\u001b[91m::LinearAlgebra.CholeskyPivoted\u001b[39m) at ~/packages/julias/julia-1.8/share/julia/stdlib/v1.8/LinearAlgebra/src/cholesky.jl:512\n\u001b[0m  ...",
      "",
      "Stacktrace:",
      " [1] top-level scope",
      "   @ In[11]:1"
     ]
    }
   ],
   "source": [
    "U = copy(T)\n"
   ]
  },
  {
   "cell_type": "code",
   "execution_count": null,
   "id": "d366654c-9f4d-4f98-93e8-b170a466de5a",
   "metadata": {},
   "outputs": [],
   "source": []
  }
 ],
 "metadata": {
  "kernelspec": {
   "display_name": "Julia 1.8.1",
   "language": "julia",
   "name": "julia-1.8"
  },
  "language_info": {
   "file_extension": ".jl",
   "mimetype": "application/julia",
   "name": "julia",
   "version": "1.8.1"
  }
 },
 "nbformat": 4,
 "nbformat_minor": 5
}
