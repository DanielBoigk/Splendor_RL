{
 "cells": [
  {
   "cell_type": "code",
   "execution_count": 1,
   "id": "0bff9835-2ec0-479c-9741-6e281c3926ba",
   "metadata": {},
   "outputs": [
    {
     "ename": "LoadError",
     "evalue": "LoadError: syntax: incomplete: premature end of input\nin expression starting at /home/daniel/Code/Splendor/Stateclass.jl:78",
     "output_type": "error",
     "traceback": [
      "LoadError: syntax: incomplete: premature end of input\nin expression starting at /home/daniel/Code/Splendor/Stateclass.jl:78",
      "",
      "Stacktrace:",
      " [1] top-level scope",
      "   @ ~/Code/Splendor/Stateclass.jl:78",
      " [2] include(fname::String)",
      "   @ Base.MainInclude ./client.jl:476",
      " [3] top-level scope",
      "   @ In[1]:1"
     ]
    }
   ],
   "source": [
    "include(\"Stateclass.jl\")\n"
   ]
  },
  {
   "cell_type": "code",
   "execution_count": 2,
   "id": "2e76cea5-5e99-4fb9-98f6-63d0d10df668",
   "metadata": {},
   "outputs": [
    {
     "name": "stdout",
     "output_type": "stream",
     "text": [
      "40\n"
     ]
    }
   ],
   "source": [
    "A = 2\n",
    "println(7*5+5)"
   ]
  },
  {
   "cell_type": "code",
   "execution_count": 3,
   "id": "cde5b64b-62af-4360-94c3-60eef223df1f",
   "metadata": {},
   "outputs": [
    {
     "name": "stdout",
     "output_type": "stream",
     "text": [
      "4\n"
     ]
    }
   ],
   "source": [
    "println(2* A)"
   ]
  },
  {
   "cell_type": "code",
   "execution_count": 4,
   "id": "d6dd5b17-aef9-4e08-b24a-03fd0e531601",
   "metadata": {},
   "outputs": [
    {
     "data": {
      "text/plain": [
       "test01(\"Marvin\", 12)"
      ]
     },
     "execution_count": 4,
     "metadata": {},
     "output_type": "execute_result"
    }
   ],
   "source": [
    "struct test01\n",
    "    name::String\n",
    "    age::Int8\n",
    "end\n",
    "\n",
    "Marv = test01(\"Marvin\", 12)\n",
    "    \n",
    "    "
   ]
  },
  {
   "cell_type": "code",
   "execution_count": 5,
   "id": "5ada8abe-fa10-4f33-81bc-302d31c8ad69",
   "metadata": {},
   "outputs": [
    {
     "name": "stdout",
     "output_type": "stream",
     "text": [
      "Marvin\n"
     ]
    }
   ],
   "source": [
    "println(Marv.name)"
   ]
  },
  {
   "cell_type": "code",
   "execution_count": null,
   "id": "7d9aadf0-69e7-4fdb-becf-31742aacc23c",
   "metadata": {},
   "outputs": [],
   "source": []
  }
 ],
 "metadata": {
  "kernelspec": {
   "display_name": "Julia 1.8.1",
   "language": "julia",
   "name": "julia-1.8"
  },
  "language_info": {
   "file_extension": ".jl",
   "mimetype": "application/julia",
   "name": "julia",
   "version": "1.8.1"
  }
 },
 "nbformat": 4,
 "nbformat_minor": 5
}
