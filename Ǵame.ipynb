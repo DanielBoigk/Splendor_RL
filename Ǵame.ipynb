{
 "cells": [
  {
   "cell_type": "code",
   "execution_count": 1,
   "id": "803be6e3-441d-4646-83d1-7fa55c245265",
   "metadata": {},
   "outputs": [],
   "source": [
    "#include(\"Game.jl\")"
   ]
  },
  {
   "cell_type": "code",
   "execution_count": 2,
   "id": "53ce535b-2433-4b24-9970-01398b03705d",
   "metadata": {},
   "outputs": [
    {
     "ename": "LoadError",
     "evalue": "ArgumentError: \"cardlist.csv\" is not a valid file or doesn't exist",
     "output_type": "error",
     "traceback": [
      "ArgumentError: \"cardlist.csv\" is not a valid file or doesn't exist",
      "",
      "Stacktrace:",
      " [1] CSV.Context(source::CSV.Arg, header::CSV.Arg, normalizenames::CSV.Arg, datarow::CSV.Arg, skipto::CSV.Arg, footerskip::CSV.Arg, transpose::CSV.Arg, comment::CSV.Arg, ignoreemptyrows::CSV.Arg, ignoreemptylines::CSV.Arg, select::CSV.Arg, drop::CSV.Arg, limit::CSV.Arg, buffer_in_memory::CSV.Arg, threaded::CSV.Arg, ntasks::CSV.Arg, tasks::CSV.Arg, rows_to_check::CSV.Arg, lines_to_check::CSV.Arg, missingstrings::CSV.Arg, missingstring::CSV.Arg, delim::CSV.Arg, ignorerepeated::CSV.Arg, quoted::CSV.Arg, quotechar::CSV.Arg, openquotechar::CSV.Arg, closequotechar::CSV.Arg, escapechar::CSV.Arg, dateformat::CSV.Arg, dateformats::CSV.Arg, decimal::CSV.Arg, truestrings::CSV.Arg, falsestrings::CSV.Arg, stripwhitespace::CSV.Arg, type::CSV.Arg, types::CSV.Arg, typemap::CSV.Arg, pool::CSV.Arg, downcast::CSV.Arg, lazystrings::CSV.Arg, stringtype::CSV.Arg, strict::CSV.Arg, silencewarnings::CSV.Arg, maxwarnings::CSV.Arg, debug::CSV.Arg, parsingdebug::CSV.Arg, validate::CSV.Arg, streaming::CSV.Arg)",
      "   @ CSV ~/.julia/packages/CSV/1P1tQ/src/context.jl:306",
      " [2] #File#28",
      "   @ ~/.julia/packages/CSV/1P1tQ/src/file.jl:221 [inlined]",
      " [3] File",
      "   @ ~/.julia/packages/CSV/1P1tQ/src/file.jl:162 [inlined]",
      " [4] read_cards()",
      "   @ Main ~/Code/Splendor/src/read_cards.jl:5",
      " [5] top-level scope",
      "   @ In[2]:2"
     ]
    }
   ],
   "source": [
    "include(\"src/read_cards.jl\")\n",
    "Card_list = read_cards()"
   ]
  },
  {
   "cell_type": "code",
   "execution_count": 5,
   "id": "81a607b0-9bf8-47c6-8b8f-6d8a91f79d26",
   "metadata": {},
   "outputs": [],
   "source": [
    "mutable struct game\n",
    "    players::Int8\n",
    "    turn::Int8\n",
    "    \n",
    "    game_coins::Vector{Int8} #Saves amount of coins in the game\n",
    "    player_coins::Array{Int8} #Saves how many coins a player has\n",
    "    player_points::Array{Int8} #Saves\n",
    "    player_PP::Array{Int8} #Saves Purchasing Power of Player\n",
    "    #=\n",
    "    card_high_list::Array{Int8}\n",
    "    card_med_list::Array{Int8}\n",
    "    card_low_list::Array{Int8}\n",
    "    \n",
    "    noble_list::Array{Int8}\n",
    "    =#\n",
    "    function game(player::Int64)\n",
    "        turn = 0\n",
    "        if player == 2\n",
    "            game_coins = [4,4,4,4,4,5]\n",
    "        elseif player == 3\n",
    "            game_coins = [4,4,4,4,4,5]\n",
    "        else     \n",
    "            player = 4\n",
    "            game_coins = [4,4,4,4,4,5]\n",
    "        end\n",
    "        player_coins = zeros(Int8, player, 6)\n",
    "        player_points = zeros(Int8,player)\n",
    "        player_PP = zeros(Int8,player,5)\n",
    "        new(player, turn, game_coins,player_coins, player_points, player_PP)\n",
    "    end      \n",
    "end"
   ]
  },
  {
   "cell_type": "code",
   "execution_count": 6,
   "id": "0bd8c0e0-f7a8-424f-aca2-527cd5766d87",
   "metadata": {},
   "outputs": [
    {
     "data": {
      "text/plain": [
       "game(3, 0, Int8[4, 4, 4, 4, 4, 5], Int8[0 0 … 0 0; 0 0 … 0 0; 0 0 … 0 0], Int8[0, 0, 0], Int8[0 0 … 0 0; 0 0 … 0 0; 0 0 … 0 0])"
      ]
     },
     "execution_count": 6,
     "metadata": {},
     "output_type": "execute_result"
    }
   ],
   "source": [
    "G = game(3)"
   ]
  },
  {
   "cell_type": "code",
   "execution_count": null,
   "id": "8c5b1e1c-889a-4200-b513-d0a530e7bade",
   "metadata": {},
   "outputs": [],
   "source": []
  },
  {
   "cell_type": "code",
   "execution_count": null,
   "id": "7add18be-99dc-4ead-bcb1-5a23147f0cc3",
   "metadata": {},
   "outputs": [],
   "source": []
  }
 ],
 "metadata": {
  "kernelspec": {
   "display_name": "Julia 1.8.1",
   "language": "julia",
   "name": "julia-1.8"
  },
  "language_info": {
   "file_extension": ".jl",
   "mimetype": "application/julia",
   "name": "julia",
   "version": "1.8.1"
  }
 },
 "nbformat": 4,
 "nbformat_minor": 5
}
