{
 "cells": [
  {
   "cell_type": "code",
   "execution_count": 1,
   "id": "803be6e3-441d-4646-83d1-7fa55c245265",
   "metadata": {},
   "outputs": [],
   "source": [
    "#include(\"Game.jl\")"
   ]
  },
  {
   "cell_type": "code",
   "execution_count": 2,
   "id": "53ce535b-2433-4b24-9970-01398b03705d",
   "metadata": {},
   "outputs": [
    {
     "data": {
      "text/plain": [
       "90×8 Matrix{Union{Missing, Int8}}:\n",
       " 5  1  1  1  1  0  0  1\n",
       " 5  1  1  2  1  0  0  1\n",
       " 5  0  1  2  2  0  0  1\n",
       " 5  1  3  0  0  1  0  1\n",
       " 5  2  1  0  0  0  0  1\n",
       " 5  2  0  0  2  0  0  1\n",
       " 5  3  0  0  0  0  0  1\n",
       " 5  0  0  4  0  0  1  1\n",
       " 3  1  1  0  1  1  0  1\n",
       " 3  1  2  0  1  1  0  1\n",
       " 3  2  2  0  1  0  0  1\n",
       " 3  3  1  1  0  0  0  1\n",
       " 3  0  0  0  1  2  0  1\n",
       " ⋮              ⋮     \n",
       " 4  3  5  3  0  3  3  3\n",
       " 4  0  0  0  0  7  4  3\n",
       " 4  0  3  0  3  6  4  3\n",
       " 4  0  0  0  3  7  5  3\n",
       " 1  0  3  3  5  3  3  3\n",
       " 1  0  0  7  0  0  4  3\n",
       " 1  3  0  6  3  0  4  3\n",
       " 1  3  0  7  0  0  5  3\n",
       " 2  3  0  5  3  3  3  3\n",
       " 2  7  0  0  0  0  4  3\n",
       " 2  6  3  3  0  0  4  3\n",
       " 2  7  3  0  0  0  5  3"
      ]
     },
     "execution_count": 2,
     "metadata": {},
     "output_type": "execute_result"
    }
   ],
   "source": [
    "include(\"src/read_cards.jl\")\n",
    "Card_list = read_cards()"
   ]
  },
  {
   "cell_type": "code",
   "execution_count": 5,
   "id": "81a607b0-9bf8-47c6-8b8f-6d8a91f79d26",
   "metadata": {},
   "outputs": [],
   "source": [
    "mutable struct game\n",
    "    players::Int8\n",
    "    turn::Int8\n",
    "    \n",
    "    game_coins::Vector{Int8} #Saves amount of coins in the game\n",
    "    player_coins::Array{Int8} #Saves how many coins a player has\n",
    "    player_points::Array{Int8} #Saves\n",
    "    player_PP::Array{Int8} #Saves Purchasing Power of Player\n",
    "    #=\n",
    "    card_high_list::Array{Int8}\n",
    "    card_med_list::Array{Int8}\n",
    "    card_low_list::Array{Int8}\n",
    "    \n",
    "    noble_list::Array{Int8}\n",
    "    =#\n",
    "    function game(player::Int64)\n",
    "        turn = 0\n",
    "        if player == 2\n",
    "            game_coins = [4,4,4,4,4,5]\n",
    "        elseif player == 3\n",
    "            game_coins = [4,4,4,4,4,5]\n",
    "        else     \n",
    "            player = 4\n",
    "            game_coins = [4,4,4,4,4,5]\n",
    "        end\n",
    "        player_coins = zeros(Int8, player, 6)\n",
    "        player_points = zeros(Int8,player)\n",
    "        player_PP = zeros(Int8,player,5)\n",
    "        new(player, turn, game_coins,player_coins, player_points, player_PP)\n",
    "    end      \n",
    "end"
   ]
  },
  {
   "cell_type": "code",
   "execution_count": 6,
   "id": "0bd8c0e0-f7a8-424f-aca2-527cd5766d87",
   "metadata": {},
   "outputs": [
    {
     "data": {
      "text/plain": [
       "game(3, 0, Int8[4, 4, 4, 4, 4, 5], Int8[0 0 … 0 0; 0 0 … 0 0; 0 0 … 0 0], Int8[0, 0, 0], Int8[0 0 … 0 0; 0 0 … 0 0; 0 0 … 0 0])"
      ]
     },
     "execution_count": 6,
     "metadata": {},
     "output_type": "execute_result"
    }
   ],
   "source": [
    "G = game(3)"
   ]
  },
  {
   "cell_type": "code",
   "execution_count": null,
   "id": "8c5b1e1c-889a-4200-b513-d0a530e7bade",
   "metadata": {},
   "outputs": [],
   "source": []
  },
  {
   "cell_type": "code",
   "execution_count": null,
   "id": "7add18be-99dc-4ead-bcb1-5a23147f0cc3",
   "metadata": {},
   "outputs": [],
   "source": []
  }
 ],
 "metadata": {
  "kernelspec": {
   "display_name": "Julia 1.8.1",
   "language": "julia",
   "name": "julia-1.8"
  },
  "language_info": {
   "file_extension": ".jl",
   "mimetype": "application/julia",
   "name": "julia",
   "version": "1.8.1"
  }
 },
 "nbformat": 4,
 "nbformat_minor": 5
}
