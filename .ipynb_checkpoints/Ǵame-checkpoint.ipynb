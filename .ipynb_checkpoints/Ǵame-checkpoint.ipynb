{
 "cells": [
  {
   "cell_type": "code",
   "execution_count": 1,
   "id": "803be6e3-441d-4646-83d1-7fa55c245265",
   "metadata": {},
   "outputs": [
    {
     "data": {
      "text/plain": [
       "generate_game (generic function with 1 method)"
      ]
     },
     "execution_count": 1,
     "metadata": {},
     "output_type": "execute_result"
    }
   ],
   "source": [
    "include(\"src/Game.jl\")"
   ]
  },
  {
   "cell_type": "code",
   "execution_count": 2,
   "id": "0bd8c0e0-f7a8-424f-aca2-527cd5766d87",
   "metadata": {},
   "outputs": [
    {
     "name": "stdout",
     "output_type": "stream",
     "text": [
      "Int8[2 3 0 5 3 3 3 3 1 0; 4 0 0 0 3 7 5 3 1 0; 4 0 0 0 0 7 4 3 1 0; 2 7 3 0 0 0 5 3 1 0; 1 0 0 7 0 0 4 3 0 -1; 5 0 7 0 0 3 5 3 0 -1; 1 3 0 7 0 0 5 3 0 -1; 3 0 0 3 7 0 5 3 0 -1; 2 7 0 0 0 0 4 3 0 -1; 5 3 6 0 0 3 4 3 0 -1; 3 0 0 0 7 0 4 3 0 -1; 4 0 3 0 3 6 4 3 0 -1; 3 3 3 0 3 5 3 3 0 -1; 3 0 0 3 6 3 4 3 0 -1; 1 3 0 6 3 0 4 3 0 -1; 5 5 3 3 3 0 3 3 0 -1; 1 0 3 3 5 3 3 3 0 -1; 5 0 7 0 0 0 4 3 0 -1; 2 6 3 3 0 0 4 3 0 -1; 4 3 5 3 0 3 3 3 0 -1]\n"
     ]
    }
   ],
   "source": [
    "G = game(4)\n",
    "println(G.card_high_list)"
   ]
  },
  {
   "cell_type": "code",
   "execution_count": null,
   "id": "8c5b1e1c-889a-4200-b513-d0a530e7bade",
   "metadata": {},
   "outputs": [],
   "source": []
  },
  {
   "cell_type": "code",
   "execution_count": null,
   "id": "7add18be-99dc-4ead-bcb1-5a23147f0cc3",
   "metadata": {},
   "outputs": [],
   "source": []
  }
 ],
 "metadata": {
  "kernelspec": {
   "display_name": "Julia 1.8.1",
   "language": "julia",
   "name": "julia-1.8"
  },
  "language_info": {
   "file_extension": ".jl",
   "mimetype": "application/julia",
   "name": "julia",
   "version": "1.8.1"
  }
 },
 "nbformat": 4,
 "nbformat_minor": 5
}
